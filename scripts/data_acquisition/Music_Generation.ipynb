{
  "nbformat": 4,
  "nbformat_minor": 0,
  "metadata": {
    "colab": {
      "provenance": []
    },
    "kernelspec": {
      "name": "python3",
      "display_name": "Python 3"
    },
    "language_info": {
      "name": "python"
    }
  },
  "cells": [
    {
      "cell_type": "markdown",
      "source": [
        "# **Proyecto Generación de música automática**"
      ],
      "metadata": {
        "id": "iQ-uPjHYZQZQ"
      }
    },
    {
      "cell_type": "markdown",
      "source": [
        "![picture](https://www.smartpiano.com.au/wp-content/uploads/2017/11/Fotolia_83643105_Subscription_Monthly_M.jpg)"
      ],
      "metadata": {
        "id": "wOd4jXQcKWT-"
      }
    },
    {
      "cell_type": "markdown",
      "source": [
        "El presente proyecto se trata de la creación automática de pequeños fragmentos musicales usando diferentes párameteros como intervalos, acordes, ritmos, tempo, entre otros, a partir de obras para piano de compositores  principalmente del clasicismo y del romanticismo en formato MIDI que se encuentran disponibles en Kaggle en el siguiente enlace: https://www.kaggle.com/soumikrakshit/classical-music-midi "
      ],
      "metadata": {
        "id": "qubinCdDZcag"
      }
    },
    {
      "cell_type": "markdown",
      "source": [
        "## **0. Objetivos**"
      ],
      "metadata": {
        "id": "bXvcI0b1aYMM"
      }
    },
    {
      "cell_type": "markdown",
      "source": [
        "\n",
        "\n",
        "*   Implementar un modelo que permita la generación de fragmentos musicales para piano a partir de ciertos parámetros introducidos por el usuario.\n",
        "*   Utilizar una red neuronal LSTM como modelo de Deep Learning\n",
        "\n",
        "\n",
        "\n"
      ],
      "metadata": {
        "id": "W-RPYzL3aa6a"
      }
    },
    {
      "cell_type": "markdown",
      "source": [
        "## **1. Dataset**"
      ],
      "metadata": {
        "id": "eIOHk8Lndsu8"
      }
    },
    {
      "cell_type": "markdown",
      "source": [
        "Descargamos el dataset que se encuentra en Google Drive"
      ],
      "metadata": {
        "id": "t600TfR8iLaa"
      }
    },
    {
      "cell_type": "code",
      "source": [
        "!gdown 1L-4v6oKVdPqMsgNF84ns7xlMSY2-2Eyn"
      ],
      "metadata": {
        "colab": {
          "base_uri": "https://localhost:8080/"
        },
        "id": "EST0fLt4dw7E",
        "outputId": "4e343862-b16d-4d54-88ba-a0c1ff89a627"
      },
      "execution_count": 1,
      "outputs": [
        {
          "output_type": "stream",
          "name": "stdout",
          "text": [
            "Downloading...\n",
            "From: https://drive.google.com/uc?id=1L-4v6oKVdPqMsgNF84ns7xlMSY2-2Eyn\n",
            "To: /content/Music_generation.zip\n",
            "\r  0% 0.00/2.45M [00:00<?, ?B/s]\r100% 2.45M/2.45M [00:00<00:00, 197MB/s]\n"
          ]
        }
      ]
    },
    {
      "cell_type": "markdown",
      "source": [
        "Los audios en formato MIDI se encuentran comprimidos en zip y los incluimos en la carpeta 'music':"
      ],
      "metadata": {
        "id": "_Ms8jeW5cGsK"
      }
    },
    {
      "cell_type": "code",
      "source": [
        "!mkdir music"
      ],
      "metadata": {
        "id": "xVhYAcK5AZO-"
      },
      "execution_count": 3,
      "outputs": []
    },
    {
      "cell_type": "code",
      "source": [
        "!unzip \"/content/Music_generation.zip\" -d 'music'"
      ],
      "metadata": {
        "id": "-CH1VkLRdHw5"
      },
      "execution_count": null,
      "outputs": []
    },
    {
      "cell_type": "markdown",
      "source": [
        "Tenemos en total 295 archivos MIDI:"
      ],
      "metadata": {
        "id": "5PDdjnqJFwMm"
      }
    },
    {
      "cell_type": "code",
      "source": [
        "import os\n",
        "count = 0\n",
        "for root_dir, cur_dir, files in os.walk('music'):\n",
        "    count += len(files)\n",
        "print('file count:', count)"
      ],
      "metadata": {
        "colab": {
          "base_uri": "https://localhost:8080/"
        },
        "id": "ZvK3Fz0AEwM0",
        "outputId": "d4bed1c1-0e32-4c69-a8a2-8e61db1e2e54"
      },
      "execution_count": 28,
      "outputs": [
        {
          "output_type": "stream",
          "name": "stdout",
          "text": [
            "file count: 295\n"
          ]
        }
      ]
    },
    {
      "cell_type": "markdown",
      "source": [
        "Veámos la estructura de los datos en la carpeta 'music'"
      ],
      "metadata": {
        "id": "3eiaQfxwD_FI"
      }
    },
    {
      "cell_type": "code",
      "source": [
        "!apt install tree"
      ],
      "metadata": {
        "colab": {
          "base_uri": "https://localhost:8080/"
        },
        "id": "gMUGxpZ_CIHJ",
        "outputId": "c1c06d56-b931-4add-9529-6ed133ce6b09"
      },
      "execution_count": 17,
      "outputs": [
        {
          "output_type": "stream",
          "name": "stdout",
          "text": [
            "Reading package lists... Done\n",
            "Building dependency tree       \n",
            "Reading state information... Done\n",
            "The following NEW packages will be installed:\n",
            "  tree\n",
            "0 upgraded, 1 newly installed, 0 to remove and 34 not upgraded.\n",
            "Need to get 43.0 kB of archives.\n",
            "After this operation, 115 kB of additional disk space will be used.\n",
            "Get:1 http://archive.ubuntu.com/ubuntu focal/universe amd64 tree amd64 1.8.0-1 [43.0 kB]\n",
            "Fetched 43.0 kB in 1s (53.2 kB/s)\n",
            "Selecting previously unselected package tree.\n",
            "(Reading database ... 122594 files and directories currently installed.)\n",
            "Preparing to unpack .../tree_1.8.0-1_amd64.deb ...\n",
            "Unpacking tree (1.8.0-1) ...\n",
            "Setting up tree (1.8.0-1) ...\n",
            "Processing triggers for man-db (2.9.1-1) ...\n"
          ]
        }
      ]
    },
    {
      "cell_type": "code",
      "source": [
        "!tree music"
      ],
      "metadata": {
        "colab": {
          "base_uri": "https://localhost:8080/"
        },
        "id": "cK0EW01qD3pk",
        "outputId": "9c638ee9-b707-4e84-88dc-238fcfa3fc8b"
      },
      "execution_count": 29,
      "outputs": [
        {
          "output_type": "stream",
          "name": "stdout",
          "text": [
            "\u001b[01;34mmusic\u001b[00m\n",
            "├── \u001b[01;34malbeniz\u001b[00m\n",
            "│   ├── alb_esp1.mid\n",
            "│   ├── alb_esp2.mid\n",
            "│   ├── alb_esp3.mid\n",
            "│   ├── alb_esp4.mid\n",
            "│   ├── alb_esp5.mid\n",
            "│   ├── alb_esp6.mid\n",
            "│   ├── alb_se1.mid\n",
            "│   ├── alb_se2.mid\n",
            "│   ├── alb_se3.mid\n",
            "│   ├── alb_se4.mid\n",
            "│   ├── alb_se5.mid\n",
            "│   ├── alb_se6.mid\n",
            "│   ├── alb_se7.mid\n",
            "│   └── alb_se8.mid\n",
            "├── \u001b[01;34mbach\u001b[00m\n",
            "│   ├── bach_846.mid\n",
            "│   ├── bach_847.mid\n",
            "│   └── bach_850.mid\n",
            "├── \u001b[01;34mbalakir\u001b[00m\n",
            "│   └── islamei.mid\n",
            "├── \u001b[01;34mbeeth\u001b[00m\n",
            "│   ├── appass_1.mid\n",
            "│   ├── appass_2.mid\n",
            "│   ├── appass_3.mid\n",
            "│   ├── beethoven_hammerklavier_1.mid\n",
            "│   ├── beethoven_hammerklavier_2.mid\n",
            "│   ├── beethoven_hammerklavier_3.mid\n",
            "│   ├── beethoven_hammerklavier_4.mid\n",
            "│   ├── beethoven_les_adieux_1.mid\n",
            "│   ├── beethoven_les_adieux_2.mid\n",
            "│   ├── beethoven_les_adieux_3.mid\n",
            "│   ├── beethoven_opus10_1.mid\n",
            "│   ├── beethoven_opus10_2.mid\n",
            "│   ├── beethoven_opus10_3.mid\n",
            "│   ├── beethoven_opus22_1.mid\n",
            "│   ├── beethoven_opus22_2.mid\n",
            "│   ├── beethoven_opus22_3.mid\n",
            "│   ├── beethoven_opus22_4.mid\n",
            "│   ├── beethoven_opus90_1.mid\n",
            "│   ├── beethoven_opus90_2.mid\n",
            "│   ├── elise.mid\n",
            "│   ├── mond_1.mid\n",
            "│   ├── mond_2.mid\n",
            "│   ├── mond_3.mid\n",
            "│   ├── pathetique_1.mid\n",
            "│   ├── pathetique_2.mid\n",
            "│   ├── pathetique_3.mid\n",
            "│   ├── waldstein_1.mid\n",
            "│   ├── waldstein_2.mid\n",
            "│   └── waldstein_3.mid\n",
            "├── \u001b[01;34mborodin\u001b[00m\n",
            "│   ├── bor_ps1.mid\n",
            "│   ├── bor_ps2.mid\n",
            "│   ├── bor_ps3.mid\n",
            "│   ├── bor_ps4.mid\n",
            "│   ├── bor_ps5.mid\n",
            "│   ├── bor_ps6.mid\n",
            "│   └── bor_ps7.mid\n",
            "├── \u001b[01;34mbrahms\u001b[00m\n",
            "│   ├── brahms_opus117_1.mid\n",
            "│   ├── brahms_opus117_2.mid\n",
            "│   ├── brahms_opus1_1.mid\n",
            "│   ├── brahms_opus1_2.mid\n",
            "│   ├── brahms_opus1_3.mid\n",
            "│   ├── brahms_opus1_4.mid\n",
            "│   ├── br_im2.mid\n",
            "│   ├── br_im5.mid\n",
            "│   ├── BR_IM6.MID\n",
            "│   └── br_rhap.mid\n",
            "├── \u001b[01;34mburgm\u001b[00m\n",
            "│   ├── burg_agitato.mid\n",
            "│   ├── burg_erwachen.mid\n",
            "│   ├── burg_geschwindigkeit.mid\n",
            "│   ├── burg_gewitter.mid\n",
            "│   ├── burg_perlen.mid\n",
            "│   ├── burg_quelle.mid\n",
            "│   ├── burg_spinnerlied.mid\n",
            "│   ├── burg_sylphen.mid\n",
            "│   └── burg_trennung.mid\n",
            "├── \u001b[01;34mchopin\u001b[00m\n",
            "│   ├── chpn_op10_e01.mid\n",
            "│   ├── chpn_op10_e05.mid\n",
            "│   ├── chpn_op10_e12.mid\n",
            "│   ├── chpn_op23.mid\n",
            "│   ├── chpn_op25_e11.mid\n",
            "│   ├── chpn_op25_e12.mid\n",
            "│   ├── chpn_op25_e1.mid\n",
            "│   ├── chpn_op25_e2.mid\n",
            "│   ├── chpn_op25_e3.mid\n",
            "│   ├── chpn_op25_e4.mid\n",
            "│   ├── chpn_op27_1.mid\n",
            "│   ├── chpn_op27_2.mid\n",
            "│   ├── chpn_op33_2.mid\n",
            "│   ├── chpn_op33_4.mid\n",
            "│   ├── chpn_op35_1.mid\n",
            "│   ├── chpn_op35_2.mid\n",
            "│   ├── chpn_op35_3.mid\n",
            "│   ├── chpn_op35_4.mid\n",
            "│   ├── chpn_op53.mid\n",
            "│   ├── chpn_op66.mid\n",
            "│   ├── chpn_op7_1.mid\n",
            "│   ├── chpn_op7_2.mid\n",
            "│   ├── chpn-p10.mid\n",
            "│   ├── chpn-p11.mid\n",
            "│   ├── chpn-p12.mid\n",
            "│   ├── chpn-p13.mid\n",
            "│   ├── chpn-p14.mid\n",
            "│   ├── chpn-p15.mid\n",
            "│   ├── chpn-p16.mid\n",
            "│   ├── chpn-p17.mid\n",
            "│   ├── chpn-p18.mid\n",
            "│   ├── chpn-p19.mid\n",
            "│   ├── chpn-p1.mid\n",
            "│   ├── chpn-p20.mid\n",
            "│   ├── chpn-p21.mid\n",
            "│   ├── chpn-p22.mid\n",
            "│   ├── chpn-p23.mid\n",
            "│   ├── chpn-p24.mid\n",
            "│   ├── chpn-p2.mid\n",
            "│   ├── chpn-p3.mid\n",
            "│   ├── chpn-p4.mid\n",
            "│   ├── chpn-p5.mid\n",
            "│   ├── chpn-p6.mid\n",
            "│   ├── chpn-p7.mid\n",
            "│   ├── chpn-p8.mid\n",
            "│   ├── chpn-p9.mid\n",
            "│   ├── chp_op18.mid\n",
            "│   └── chp_op31.mid\n",
            "├── \u001b[01;34mdebussy\u001b[00m\n",
            "│   ├── DEB_CLAI.MID\n",
            "│   ├── deb_menu.mid\n",
            "│   ├── DEB_PASS.MID\n",
            "│   ├── deb_prel.mid\n",
            "│   ├── debussy_cc_1.mid\n",
            "│   ├── debussy_cc_2.mid\n",
            "│   ├── debussy_cc_3.mid\n",
            "│   ├── debussy_cc_4.mid\n",
            "│   └── debussy_cc_6.mid\n",
            "├── \u001b[01;34mgranados\u001b[00m\n",
            "│   ├── gra_esp_2.mid\n",
            "│   ├── gra_esp_3.mid\n",
            "│   └── gra_esp_4.mid\n",
            "├── \u001b[01;34mgrieg\u001b[00m\n",
            "│   ├── grieg_album.mid\n",
            "│   ├── grieg_berceuse.mid\n",
            "│   ├── grieg_brooklet.mid\n",
            "│   ├── grieg_butterfly.mid\n",
            "│   ├── grieg_elfentanz.mid\n",
            "│   ├── grieg_halling.mid\n",
            "│   ├── grieg_kobold.mid\n",
            "│   ├── grieg_march.mid\n",
            "│   ├── grieg_once_upon_a_time.mid\n",
            "│   ├── grieg_spring.mid\n",
            "│   ├── grieg_voeglein.mid\n",
            "│   ├── grieg_waechter.mid\n",
            "│   ├── grieg_walzer.mid\n",
            "│   ├── grieg_wanderer.mid\n",
            "│   ├── grieg_wedding.mid\n",
            "│   └── grieg_zwerge.mid\n",
            "├── \u001b[01;34mhaydn\u001b[00m\n",
            "│   ├── hay_40_1.mid\n",
            "│   ├── hay_40_2.mid\n",
            "│   ├── haydn_33_1.mid\n",
            "│   ├── haydn_33_2.mid\n",
            "│   ├── haydn_33_3.mid\n",
            "│   ├── haydn_35_1.mid\n",
            "│   ├── haydn_35_2.mid\n",
            "│   ├── haydn_35_3.mid\n",
            "│   ├── haydn_43_1.mid\n",
            "│   ├── haydn_43_2.mid\n",
            "│   ├── haydn_43_3.mid\n",
            "│   ├── haydn_7_1.mid\n",
            "│   ├── haydn_7_2.mid\n",
            "│   ├── haydn_7_3.mid\n",
            "│   ├── haydn_8_1.mid\n",
            "│   ├── haydn_8_2.mid\n",
            "│   ├── haydn_8_3.mid\n",
            "│   ├── haydn_8_4.mid\n",
            "│   ├── haydn_9_1.mid\n",
            "│   ├── haydn_9_2.mid\n",
            "│   └── haydn_9_3.mid\n",
            "├── \u001b[01;34mliszt\u001b[00m\n",
            "│   ├── liz_donjuan.mid\n",
            "│   ├── liz_et1.mid\n",
            "│   ├── liz_et2.mid\n",
            "│   ├── liz_et3.mid\n",
            "│   ├── liz_et4.mid\n",
            "│   ├── liz_et5.mid\n",
            "│   ├── liz_et6.mid\n",
            "│   ├── liz_et_trans4.mid\n",
            "│   ├── liz_et_trans5.mid\n",
            "│   ├── liz_et_trans8.mid\n",
            "│   ├── liz_liebestraum.mid\n",
            "│   ├── liz_rhap02.mid\n",
            "│   ├── liz_rhap09.mid\n",
            "│   ├── liz_rhap10.mid\n",
            "│   ├── liz_rhap12.mid\n",
            "│   └── liz_rhap15.mid\n",
            "├── \u001b[01;34mmendelssohn\u001b[00m\n",
            "│   ├── mendel_op19_1.mid\n",
            "│   ├── mendel_op19_2.mid\n",
            "│   ├── mendel_op19_3.mid\n",
            "│   ├── mendel_op19_4.mid\n",
            "│   ├── mendel_op19_5.mid\n",
            "│   ├── mendel_op19_6.mid\n",
            "│   ├── mendel_op30_1.mid\n",
            "│   ├── mendel_op30_2.mid\n",
            "│   ├── mendel_op30_3.mid\n",
            "│   ├── mendel_op30_4.mid\n",
            "│   ├── mendel_op30_5.mid\n",
            "│   ├── mendel_op53_5.mid\n",
            "│   ├── mendel_op62_3.mid\n",
            "│   ├── mendel_op62_4.mid\n",
            "│   └── mendel_op62_5.mid\n",
            "├── \u001b[01;34mmozart\u001b[00m\n",
            "│   ├── mz_311_1.mid\n",
            "│   ├── mz_311_2.mid\n",
            "│   ├── mz_311_3.mid\n",
            "│   ├── mz_330_1.mid\n",
            "│   ├── mz_330_2.mid\n",
            "│   ├── mz_330_3.mid\n",
            "│   ├── mz_331_1.mid\n",
            "│   ├── mz_331_2.mid\n",
            "│   ├── mz_331_3.mid\n",
            "│   ├── mz_332_1.mid\n",
            "│   ├── mz_332_2.mid\n",
            "│   ├── mz_332_3.mid\n",
            "│   ├── mz_333_1.mid\n",
            "│   ├── mz_333_2.mid\n",
            "│   ├── mz_333_3.mid\n",
            "│   ├── mz_545_1.mid\n",
            "│   ├── mz_545_2.mid\n",
            "│   ├── mz_545_3.mid\n",
            "│   ├── mz_570_1.mid\n",
            "│   ├── mz_570_2.mid\n",
            "│   └── mz_570_3.mid\n",
            "├── \u001b[01;34mmuss\u001b[00m\n",
            "│   ├── muss_1.mid\n",
            "│   ├── muss_2.mid\n",
            "│   ├── muss_3.mid\n",
            "│   ├── muss_4.mid\n",
            "│   ├── muss_5.mid\n",
            "│   ├── muss_6.mid\n",
            "│   ├── muss_7.mid\n",
            "│   └── muss_8.mid\n",
            "├── \u001b[01;34mschubert\u001b[00m\n",
            "│   ├── schu_143_1.mid\n",
            "│   ├── schu_143_2.mid\n",
            "│   ├── schu_143_3.mid\n",
            "│   ├── schub_d760_1.mid\n",
            "│   ├── schub_d760_2.mid\n",
            "│   ├── schub_d760_3.mid\n",
            "│   ├── schub_d760_4.mid\n",
            "│   ├── schub_d960_1.mid\n",
            "│   ├── schub_d960_2.mid\n",
            "│   ├── schub_d960_3.mid\n",
            "│   ├── schub_d960_4.mid\n",
            "│   ├── schubert_D850_1.mid\n",
            "│   ├── schubert_D850_2.mid\n",
            "│   ├── schubert_D850_3.mid\n",
            "│   ├── schubert_D850_4.mid\n",
            "│   ├── schubert_D935_1.mid\n",
            "│   ├── schubert_D935_2.mid\n",
            "│   ├── schubert_D935_3.mid\n",
            "│   ├── schubert_D935_4.mid\n",
            "│   ├── schuim-1.mid\n",
            "│   ├── schuim-2.mid\n",
            "│   ├── schuim-3.mid\n",
            "│   ├── schuim-4.mid\n",
            "│   ├── schumm-1.mid\n",
            "│   ├── schumm-2.mid\n",
            "│   ├── schumm-3.mid\n",
            "│   ├── schumm-4.mid\n",
            "│   ├── schumm-5.mid\n",
            "│   └── schumm-6.mid\n",
            "├── \u001b[01;34mschumann\u001b[00m\n",
            "│   ├── schum_abegg.mid\n",
            "│   ├── scn15_10.mid\n",
            "│   ├── scn15_11.mid\n",
            "│   ├── scn15_12.mid\n",
            "│   ├── scn15_13.mid\n",
            "│   ├── scn15_1.mid\n",
            "│   ├── scn15_2.mid\n",
            "│   ├── scn15_3.mid\n",
            "│   ├── scn15_4.mid\n",
            "│   ├── scn15_5.mid\n",
            "│   ├── scn15_6.mid\n",
            "│   ├── scn15_7.mid\n",
            "│   ├── scn15_8.mid\n",
            "│   ├── scn15_9.mid\n",
            "│   ├── scn16_1.mid\n",
            "│   ├── scn16_2.mid\n",
            "│   ├── scn16_3.mid\n",
            "│   ├── scn16_4.mid\n",
            "│   ├── scn16_5.mid\n",
            "│   ├── scn16_6.mid\n",
            "│   ├── scn16_7.mid\n",
            "│   ├── scn16_8.mid\n",
            "│   ├── scn68_10.mid\n",
            "│   └── scn68_12.mid\n",
            "└── \u001b[01;34mtschai\u001b[00m\n",
            "    ├── ty_april.mid\n",
            "    ├── ty_august.mid\n",
            "    ├── ty_dezember.mid\n",
            "    ├── ty_februar.mid\n",
            "    ├── ty_januar.mid\n",
            "    ├── ty_juli.mid\n",
            "    ├── ty_juni.mid\n",
            "    ├── ty_maerz.mid\n",
            "    ├── ty_mai.mid\n",
            "    ├── ty_november.mid\n",
            "    ├── ty_oktober.mid\n",
            "    └── ty_september.mid\n",
            "\n",
            "19 directories, 295 files\n"
          ]
        }
      ]
    }
  ]
}