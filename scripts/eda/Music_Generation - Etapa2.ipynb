{
  "nbformat": 4,
  "nbformat_minor": 0,
  "metadata": {
    "colab": {
      "provenance": []
    },
    "kernelspec": {
      "name": "python3",
      "display_name": "Python 3"
    },
    "language_info": {
      "name": "python"
    }
  },
  "cells": [
    {
      "cell_type": "markdown",
      "source": [
        "# **Proyecto Generación de música automática**"
      ],
      "metadata": {
        "id": "iQ-uPjHYZQZQ"
      }
    },
    {
      "cell_type": "markdown",
      "source": [
        "![picture](https://www.smartpiano.com.au/wp-content/uploads/2017/11/Fotolia_83643105_Subscription_Monthly_M.jpg)"
      ],
      "metadata": {
        "id": "wOd4jXQcKWT-"
      }
    },
    {
      "cell_type": "markdown",
      "source": [
        "El presente proyecto se trata de la creación automática de pequeños fragmentos musicales usando diferentes párameteros como intervalos, acordes, ritmos, tempo, entre otros, a partir de obras para piano de compositores  principalmente del clasicismo y del romanticismo en formato MIDI que se encuentran disponibles en Kaggle en el siguiente enlace: https://www.kaggle.com/soumikrakshit/classical-music-midi"
      ],
      "metadata": {
        "id": "qubinCdDZcag"
      }
    },
    {
      "cell_type": "markdown",
      "source": [
        "## **0. Objetivos**"
      ],
      "metadata": {
        "id": "bXvcI0b1aYMM"
      }
    },
    {
      "cell_type": "markdown",
      "source": [
        "\n",
        "\n",
        "*   Implementar un modelo que permita la generación de fragmentos musicales para piano a partir de ciertos parámetros introducidos por el usuario.\n",
        "*   Utilizar una red neuronal LSTM como modelo de Deep Learning\n",
        "\n",
        "\n",
        "\n"
      ],
      "metadata": {
        "id": "W-RPYzL3aa6a"
      }
    },
    {
      "cell_type": "markdown",
      "source": [
        "## **1. Dataset**"
      ],
      "metadata": {
        "id": "eIOHk8Lndsu8"
      }
    },
    {
      "cell_type": "markdown",
      "source": [
        "Descargamos el dataset que se encuentra en Google Drive"
      ],
      "metadata": {
        "id": "t600TfR8iLaa"
      }
    },
    {
      "cell_type": "code",
      "source": [
        "!gdown 1L-4v6oKVdPqMsgNF84ns7xlMSY2-2Eyn"
      ],
      "metadata": {
        "colab": {
          "base_uri": "https://localhost:8080/"
        },
        "id": "EST0fLt4dw7E",
        "outputId": "7d806f11-4b52-41ab-db3a-e924fbc742bc"
      },
      "execution_count": 1,
      "outputs": [
        {
          "output_type": "stream",
          "name": "stdout",
          "text": [
            "Downloading...\n",
            "From: https://drive.google.com/uc?id=1L-4v6oKVdPqMsgNF84ns7xlMSY2-2Eyn\n",
            "To: /content/Music_generation.zip\n",
            "\r  0% 0.00/2.45M [00:00<?, ?B/s]\r100% 2.45M/2.45M [00:00<00:00, 178MB/s]\n"
          ]
        }
      ]
    },
    {
      "cell_type": "markdown",
      "source": [
        "Los audios en formato MIDI se encuentran comprimidos en zip y los incluimos en la carpeta 'music':"
      ],
      "metadata": {
        "id": "_Ms8jeW5cGsK"
      }
    },
    {
      "cell_type": "code",
      "source": [
        "!mkdir music"
      ],
      "metadata": {
        "id": "xVhYAcK5AZO-"
      },
      "execution_count": 2,
      "outputs": []
    },
    {
      "cell_type": "code",
      "source": [
        "!unzip \"/content/Music_generation.zip\" -d 'music'"
      ],
      "metadata": {
        "id": "-CH1VkLRdHw5"
      },
      "execution_count": null,
      "outputs": []
    },
    {
      "cell_type": "markdown",
      "source": [
        "Tenemos en total 295 archivos MIDI:"
      ],
      "metadata": {
        "id": "5PDdjnqJFwMm"
      }
    },
    {
      "cell_type": "code",
      "source": [
        "import os\n",
        "count = 0\n",
        "for root_dir, cur_dir, files in os.walk('music'):\n",
        "    count += len(files)\n",
        "print('file count:', count)"
      ],
      "metadata": {
        "colab": {
          "base_uri": "https://localhost:8080/"
        },
        "id": "ZvK3Fz0AEwM0",
        "outputId": "10f079dd-0957-4dbf-9958-f1418a0a3b85"
      },
      "execution_count": 4,
      "outputs": [
        {
          "output_type": "stream",
          "name": "stdout",
          "text": [
            "file count: 295\n"
          ]
        }
      ]
    },
    {
      "cell_type": "markdown",
      "source": [
        "Veámos la estructura de los datos en la carpeta 'music'"
      ],
      "metadata": {
        "id": "3eiaQfxwD_FI"
      }
    },
    {
      "cell_type": "code",
      "source": [
        "!apt install tree"
      ],
      "metadata": {
        "colab": {
          "base_uri": "https://localhost:8080/"
        },
        "id": "gMUGxpZ_CIHJ",
        "outputId": "715ab86b-ce18-417b-ebdf-ff9dc5bcfb3e"
      },
      "execution_count": 5,
      "outputs": [
        {
          "output_type": "stream",
          "name": "stdout",
          "text": [
            "Reading package lists... Done\n",
            "Building dependency tree       \n",
            "Reading state information... Done\n",
            "The following NEW packages will be installed:\n",
            "  tree\n",
            "0 upgraded, 1 newly installed, 0 to remove and 46 not upgraded.\n",
            "Need to get 43.0 kB of archives.\n",
            "After this operation, 115 kB of additional disk space will be used.\n",
            "Get:1 http://archive.ubuntu.com/ubuntu focal/universe amd64 tree amd64 1.8.0-1 [43.0 kB]\n",
            "Fetched 43.0 kB in 0s (130 kB/s)\n",
            "Selecting previously unselected package tree.\n",
            "(Reading database ... 122541 files and directories currently installed.)\n",
            "Preparing to unpack .../tree_1.8.0-1_amd64.deb ...\n",
            "Unpacking tree (1.8.0-1) ...\n",
            "Setting up tree (1.8.0-1) ...\n",
            "Processing triggers for man-db (2.9.1-1) ...\n"
          ]
        }
      ]
    },
    {
      "cell_type": "code",
      "source": [
        "!tree music"
      ],
      "metadata": {
        "id": "cK0EW01qD3pk"
      },
      "execution_count": null,
      "outputs": []
    },
    {
      "cell_type": "markdown",
      "source": [
        "# **2. Exploración y Preprocesamiento de los datos**"
      ],
      "metadata": {
        "id": "NyUUVNkybFIW"
      }
    },
    {
      "cell_type": "markdown",
      "source": [
        "Para este proyecto vamos a ser uso extensivo de la librería music21, la cual permite analizar los archivos MIDI y extraer las notas (entendidas como frecuencias o alturas y sus duraciones) y acordes (notas que suenan simultáneamente) del archivo."
      ],
      "metadata": {
        "id": "pS4XxHtvcojb"
      }
    },
    {
      "cell_type": "code",
      "source": [
        "from music21 import *\n",
        "import glob\n",
        "import numpy as np\n",
        "import random\n",
        "import matplotlib.pyplot as plt\n",
        "from tensorflow.keras.layers import LSTM,Dense,Input,Dropout\n",
        "from tensorflow.keras.models import Sequential,Model,load_model\n",
        "from sklearn.model_selection import train_test_split"
      ],
      "metadata": {
        "id": "lazjCST8bPcV"
      },
      "execution_count": 18,
      "outputs": []
    },
    {
      "cell_type": "markdown",
      "source": [
        "Lectura y análisis de los archivos MIDI"
      ],
      "metadata": {
        "id": "KF2RXaU3bacW"
      }
    },
    {
      "cell_type": "code",
      "source": [
        "def extract_notes(file):\n",
        "  notes=[]\n",
        "  pick=None\n",
        "  #convertimos el archivo midi\n",
        "  midi=converter.parse(file)\n",
        "  #separamos los instrumentos del archivo\n",
        "  instrmt=instrument.partitionByInstrument(midi)\n",
        "\n",
        "  for part in instrmt.parts:\n",
        "    #separamos los datos solamente para piano\n",
        "    if 'Piano' in str(part):\n",
        "      pick=part.recurse()\n",
        "\n",
        "      #se itera sobre los elementos\n",
        "      #Se verifica si el elemento es nota o acorde, en caso de este último se separa en notas\n",
        "\n",
        "      for element in pick:\n",
        "        if type(element)==note.Note:\n",
        "          notes.append(str(element.pitch))\n",
        "        elif type(element)==chord.Chord:\n",
        "          notes.append('.'.join(str(n) for n in element.normalOrder))\n",
        "\n",
        "  #retornamos una lista de las notas\n",
        "  return notes"
      ],
      "metadata": {
        "id": "fSTH7G-4bkKv"
      },
      "execution_count": 22,
      "outputs": []
    },
    {
      "cell_type": "markdown",
      "source": [
        "Por simplicidad vamos a utilizar solamente los archivos MIDI del compositor noruego Edvard Grieg:"
      ],
      "metadata": {
        "id": "XPfODottfzu3"
      }
    },
    {
      "cell_type": "code",
      "source": [
        "file_path=[\"music/grieg\"]\n",
        "all_files=glob.glob(file_path[0]+'/*.mid',recursive=True)\n",
        "#conformamos el corpus con los archivos MIDI preprocesados\n",
        "corpus = np.array([extract_notes(i) for i in all_files], dtype=object)"
      ],
      "metadata": {
        "id": "eGnH9yCDdYMq"
      },
      "execution_count": 23,
      "outputs": []
    },
    {
      "cell_type": "markdown",
      "source": [
        "Revisemos cuántas notes únicas se tienen y cuál es su distribución:"
      ],
      "metadata": {
        "id": "nAZYRCo6dA7O"
      }
    },
    {
      "cell_type": "code",
      "source": [
        "#notas únicas\n",
        "notess = sum(corpus,[])\n",
        "unique_notes = list(set(notess))\n",
        "print(\"Unique Notes:\",len(unique_notes))\n",
        "#notas con su frecuencia\n",
        "freq=dict(map(lambda x: (x,notess.count(x)),unique_notes))\n",
        "recurrence = list(freq.values())\n",
        "for i in range(30,200,20):\n",
        "  print(i,\":\",len(list(filter(lambda x:x[1]>=i,freq.items()))))\n",
        "#gráfica\n",
        "plt.figure(figsize=(18,3))\n",
        "bins = np.arange(30,max(recurrence), 50)\n",
        "plt.hist(recurrence, bins=bins, color=\"#97BACB\")\n",
        "plt.title(\"Distribución de las notas\")\n",
        "plt.xlabel(\"Frecuencia\")\n",
        "plt.ylabel(\"Número de notas\")\n",
        "plt.show()\n"
      ],
      "metadata": {
        "colab": {
          "base_uri": "https://localhost:8080/",
          "height": 506
        },
        "id": "JIbhSJH6dD4m",
        "outputId": "4f90de23-96c9-45eb-c734-60b123fdb6a8"
      },
      "execution_count": 54,
      "outputs": [
        {
          "output_type": "stream",
          "name": "stdout",
          "text": [
            "Unique Notes: 248\n",
            "30 : 116\n",
            "50 : 89\n",
            "70 : 64\n",
            "90 : 51\n",
            "110 : 44\n",
            "130 : 33\n",
            "150 : 29\n",
            "170 : 23\n",
            "190 : 16\n"
          ]
        },
        {
          "output_type": "display_data",
          "data": {
            "text/plain": [
              "<Figure size 1800x300 with 1 Axes>"
            ],
            "image/png": "[encoded data removed]"
          },
          "metadata": {
            "image/png": {
              "width": 1462,
              "height": 315
            }
          }
        }
      ]
    },
    {
      "cell_type": "markdown",
      "source": [
        "Seleccionamos un umbral para la frecuenca de las notas para remover sonidos de baja frecuencia y facilitar la generación de la música"
      ],
      "metadata": {
        "id": "5gM2bk27f8qp"
      }
    },
    {
      "cell_type": "code",
      "source": [
        "umbral = 50\n",
        "freq_notes=dict(filter(lambda x:x[1]>=umbral,freq.items()))\n",
        "#creamos nuevas notas usando la frecuencia\n",
        "new_notes=[[i for i in j if i in freq_notes] for j in corpus]"
      ],
      "metadata": {
        "id": "8gPxSao8f6b6"
      },
      "execution_count": 45,
      "outputs": []
    },
    {
      "cell_type": "markdown",
      "source": [
        "Creamos diccionarios con los índices de las notas como keys y notas como values y viceversa:"
      ],
      "metadata": {
        "id": "4cdYXmP0gRqf"
      }
    },
    {
      "cell_type": "code",
      "source": [
        "#diccionario con el índice de nota como key y la nota como value\n",
        "ind2note=dict(enumerate(freq_notes))\n",
        "#diccionario con la nota como key y el índice de nota como value\n",
        "note2ind=dict(map(reversed,ind2note.items()))\n",
        "print(ind2note.items())\n",
        "print(len(note2ind))"
      ],
      "metadata": {
        "colab": {
          "base_uri": "https://localhost:8080/"
        },
        "id": "Kq4C5fhqgmvd",
        "outputId": "b923f698-3476-4ec3-b8db-79df99f20144"
      },
      "execution_count": 51,
      "outputs": [
        {
          "output_type": "stream",
          "name": "stdout",
          "text": [
            "dict_items([(0, 'G2'), (1, 'E-5'), (2, '4.7'), (3, '2.5'), (4, 'C#3'), (5, '2.6'), (6, '2.7'), (7, 'C#4'), (8, '11.2'), (9, 'B3'), (10, '9'), (11, '3.6'), (12, 'G5'), (13, 'D5'), (14, '6.9'), (15, '7.9'), (16, 'F5'), (17, 'E6'), (18, 'D3'), (19, 'F#3'), (20, 'B2'), (21, 'C#5'), (22, '9.1.4'), (23, '1.6'), (24, 'D6'), (25, 'A5'), (26, 'C#6'), (27, '1.4'), (28, '2'), (29, 'F#5'), (30, '6.10.1'), (31, '6.11'), (32, 'C6'), (33, '0.4'), (34, '7.11.2'), (35, 'E-4'), (36, 'G3'), (37, '8.11'), (38, '0.6'), (39, 'F#2'), (40, 'F#4'), (41, '2.6.9'), (42, 'C4'), (43, 'C3'), (44, '4.9'), (45, 'A2'), (46, 'G#4'), (47, '7.10'), (48, '10.1'), (49, '6.10'), (50, '11.3'), (51, 'G4'), (52, '7.11'), (53, 'F4'), (54, '11.4'), (55, 'A4'), (56, 'A3'), (57, 'B-4'), (58, 'B-3'), (59, 'D2'), (60, '0.2'), (61, '0'), (62, '4.7.11'), (63, 'G#5'), (64, '10.0'), (65, 'E2'), (66, 'B1'), (67, 'B4'), (68, 'B5'), (69, '10.3'), (70, 'E3'), (71, '9.10'), (72, 'B-5'), (73, 'G#3'), (74, '7.0'), (75, 'F6'), (76, 'E4'), (77, 'C5'), (78, 'E-2'), (79, '5.9.0'), (80, 'E5'), (81, '5.9'), (82, 'F3'), (83, '2.4'), (84, '9.2'), (85, 'D4'), (86, '0.5'), (87, '10.2'), (88, 'B-2')])\n",
            "89\n"
          ]
        }
      ]
    },
    {
      "cell_type": "markdown",
      "source": [
        "# **Datos de entrada y salida para el modelo**"
      ],
      "metadata": {
        "id": "vtm_tEvahF8z"
      }
    },
    {
      "cell_type": "code",
      "source": [
        "#timestep\n",
        "timesteps=50\n",
        "#store values of input and output\n",
        "x=[] ; y=[]\n",
        "for i in new_notes:\n",
        " for j in range(0,len(i)-timesteps):\n",
        "  #input will be the current index + timestep\n",
        "  #output will be the next index after timestep\n",
        "  inp=i[j:j+timesteps] ; out=i[j+timesteps]\n",
        "  #append the index value of respective notes\n",
        "  x.append(list(map(lambda x:note2ind[x],inp)))\n",
        "  y.append(note2ind[out])\n",
        "x_new=np.array(x)\n",
        "y_new=np.array(y)"
      ],
      "metadata": {
        "id": "EqPMGZflhMMk"
      },
      "execution_count": 52,
      "outputs": []
    },
    {
      "cell_type": "code",
      "source": [
        "print(x_new.shape, y_new.shape)"
      ],
      "metadata": {
        "colab": {
          "base_uri": "https://localhost:8080/"
        },
        "id": "RpiInVajhOmR",
        "outputId": "9777c714-77c6-41c7-b92b-61bbf6619f35"
      },
      "execution_count": 55,
      "outputs": [
        {
          "output_type": "stream",
          "name": "stdout",
          "text": [
            "(10922, 50) (10922,)\n"
          ]
        }
      ]
    }
  ]
}